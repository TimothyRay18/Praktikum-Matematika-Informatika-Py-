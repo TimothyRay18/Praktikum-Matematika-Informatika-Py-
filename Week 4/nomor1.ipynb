{
 "cells": [
  {
   "cell_type": "code",
   "execution_count": 37,
   "metadata": {},
   "outputs": [],
   "source": [
    "tuple_proposisi = ('p','q','p->q')\n",
    "tabel_kebenaran = [\n",
    "    {'p':True, 'q':True, 'p->q':True},\n",
    "    {'p':True, 'q':False, 'p->q':False},\n",
    "    {'p':False, 'q':True, 'p->q':True},\n",
    "    {'p':False, 'q':False, 'p->q':True}\n",
    "]\n"
   ]
  },
  {
   "cell_type": "code",
   "execution_count": 38,
   "metadata": {},
   "outputs": [],
   "source": [
    "def filter_truth_table(tabel_kebenaran, prop, prop_value):\n",
    "    new_tabel_kebenaran = []\n",
    "    for i in tabel_kebenaran:\n",
    "        if i[prop] == prop_value:\n",
    "            new_tabel_kebenaran.append(i)\n",
    "    return new_tabel_kebenaran"
   ]
  },
  {
   "cell_type": "code",
   "execution_count": 39,
   "metadata": {},
   "outputs": [],
   "source": [
    "tabel_kebenaran_2 =[]\n",
    "tabel_kebenaran_2 = filter_truth_table(tabel_kebenaran,'p',False)"
   ]
  },
  {
   "cell_type": "code",
   "execution_count": 40,
   "metadata": {},
   "outputs": [
    {
     "name": "stdout",
     "output_type": "stream",
     "text": [
      "[{'p': False, 'q': True, 'p->q': True}, {'p': False, 'q': False, 'p->q': True}]\n"
     ]
    }
   ],
   "source": [
    "print(tabel_kebenaran_2)"
   ]
  }
 ],
 "metadata": {
  "kernelspec": {
   "display_name": "Python 3",
   "language": "python",
   "name": "python3"
  },
  "language_info": {
   "codemirror_mode": {
    "name": "ipython",
    "version": 3
   },
   "file_extension": ".py",
   "mimetype": "text/x-python",
   "name": "python",
   "nbconvert_exporter": "python",
   "pygments_lexer": "ipython3",
   "version": "3.7.4"
  }
 },
 "nbformat": 4,
 "nbformat_minor": 2
}
