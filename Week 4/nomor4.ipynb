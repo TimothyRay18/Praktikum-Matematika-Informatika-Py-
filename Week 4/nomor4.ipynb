{
 "cells": [
  {
   "cell_type": "code",
   "execution_count": null,
   "metadata": {},
   "outputs": [],
   "source": [
    "tuple_proposisi = ('p','q','p->q')\n",
    "tabel_kebenaran = [\n",
    "    {'p':True, 'q':True, 'p->q':True},\n",
    "    {'p':True, 'q':False, 'p->q':False},\n",
    "    {'p':False, 'q':True, 'p->q':True},\n",
    "    {'p':False, 'q':False, 'p->q':True}\n",
    "]"
   ]
  },
  {
   "cell_type": "code",
   "execution_count": 2,
   "metadata": {},
   "outputs": [
    {
     "name": "stdout",
     "output_type": "stream",
     "text": [
      "tabel kebenaran\n"
     ]
    },
    {
     "ename": "NameError",
     "evalue": "name 'tabel_kebenaran' is not defined",
     "output_type": "error",
     "traceback": [
      "\u001b[1;31m---------------------------------------------------------------------------\u001b[0m",
      "\u001b[1;31mNameError\u001b[0m                                 Traceback (most recent call last)",
      "\u001b[1;32m<ipython-input-2-b1860eb10d57>\u001b[0m in \u001b[0;36m<module>\u001b[1;34m\u001b[0m\n\u001b[0;32m      1\u001b[0m \u001b[0mprint\u001b[0m\u001b[1;33m(\u001b[0m\u001b[1;34m\"tabel kebenaran\"\u001b[0m\u001b[1;33m)\u001b[0m\u001b[1;33m\u001b[0m\u001b[1;33m\u001b[0m\u001b[0m\n\u001b[1;32m----> 2\u001b[1;33m \u001b[0mtabel_kebenaran\u001b[0m\u001b[1;33m\u001b[0m\u001b[1;33m\u001b[0m\u001b[0m\n\u001b[0m",
      "\u001b[1;31mNameError\u001b[0m: name 'tabel_kebenaran' is not defined"
     ]
    }
   ],
   "source": [
    "print(\"tabel kebenaran\")\n",
    "tabel_kebenaran"
   ]
  },
  {
   "cell_type": "code",
   "execution_count": null,
   "metadata": {},
   "outputs": [],
   "source": [
    "def ambil(tabel_kebenaran,prop):\n",
    "    value=[]\n",
    "    for i in tabel_kebenaran:\n",
    "        value.append(i[prop])\n",
    "        return value"
   ]
  },
  {
   "cell_type": "code",
   "execution_count": null,
   "metadata": {},
   "outputs": [],
   "source": [
    "while true:\n",
    "    masukan = input('Masukan prop: ')\n",
    "    if masukan == ':\n",
    "    print('selesai')\n",
    "    break\n",
    "    elif masukan == 'p':\n",
    "        nilai_benar = ambil(tabel_kebenaran,masukan)\n",
    "    elif masukan == 'q':\n",
    "        nilai_benar = ambil(tabel_kebenaran,masukan)\n",
    "    elif masukan == 'p->q':\n",
    "        nilai_benar = ambil(tabel_kebenaran,masukan)\n",
    "    print(nilai_benar)\n",
    "    "
   ]
  }
 ],
 "metadata": {
  "kernelspec": {
   "display_name": "Python 3",
   "language": "python",
   "name": "python3"
  },
  "language_info": {
   "codemirror_mode": {
    "name": "ipython",
    "version": 3
   },
   "file_extension": ".py",
   "mimetype": "text/x-python",
   "name": "python",
   "nbconvert_exporter": "python",
   "pygments_lexer": "ipython3",
   "version": "3.7.4"
  }
 },
 "nbformat": 4,
 "nbformat_minor": 2
}
