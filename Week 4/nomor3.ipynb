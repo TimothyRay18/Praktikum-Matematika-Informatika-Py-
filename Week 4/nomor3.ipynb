{
 "cells": [
  {
   "cell_type": "code",
   "execution_count": 25,
   "metadata": {},
   "outputs": [],
   "source": [
    "tuple_proposisi = ('p','q','p->q')\n",
    "tabel_kebenaran = [\n",
    "    {'p':True, 'q':True, 'p->q':True},\n",
    "    {'p':True, 'q':False, 'p->q':False},\n",
    "    {'p':False, 'q':True, 'p->q':True},\n",
    "    {'p':False, 'q':False, 'p->q':True}\n",
    "]"
   ]
  },
  {
   "cell_type": "code",
   "execution_count": 26,
   "metadata": {},
   "outputs": [
    {
     "name": "stdout",
     "output_type": "stream",
     "text": [
      "tabel kebenaran\n"
     ]
    },
    {
     "data": {
      "text/plain": [
       "[{'p': True, 'q': True, 'p->q': True},\n",
       " {'p': True, 'q': False, 'p->q': False},\n",
       " {'p': False, 'q': True, 'p->q': True},\n",
       " {'p': False, 'q': False, 'p->q': True}]"
      ]
     },
     "execution_count": 26,
     "metadata": {},
     "output_type": "execute_result"
    }
   ],
   "source": [
    "print(\"tabel kebenaran\")\n",
    "tabel_kebenaran"
   ]
  },
  {
   "cell_type": "code",
   "execution_count": 27,
   "metadata": {},
   "outputs": [],
   "source": [
    "def filter_truth_table(tabel_kebenaran, prop, nilai):\n",
    "    new_tabel_kebenaran = []\n",
    "    for i in tabel_kebenaran:\n",
    "        if i[prop] == nilai:\n",
    "            new_tabel_kebenaran.append(i)\n",
    "    return new_tabel_kebenaran"
   ]
  },
  {
   "cell_type": "code",
   "execution_count": 28,
   "metadata": {},
   "outputs": [
    {
     "name": "stdout",
     "output_type": "stream",
     "text": [
      "Pemberian nilai: \n"
     ]
    }
   ],
   "source": [
    "print(\"Pemberian nilai: \")"
   ]
  },
  {
   "cell_type": "code",
   "execution_count": 34,
   "metadata": {},
   "outputs": [
    {
     "name": "stdout",
     "output_type": "stream",
     "text": [
      "Masukan nilai p: f\n"
     ]
    },
    {
     "ename": "NameError",
     "evalue": "name 'new_tabel_kebenaran' is not defined",
     "output_type": "error",
     "traceback": [
      "\u001b[1;31m---------------------------------------------------------------------------\u001b[0m",
      "\u001b[1;31mNameError\u001b[0m                                 Traceback (most recent call last)",
      "\u001b[1;32m<ipython-input-34-253261114d51>\u001b[0m in \u001b[0;36m<module>\u001b[1;34m\u001b[0m\n\u001b[0;32m      7\u001b[0m         \u001b[0mtable_kebenaran_current\u001b[0m\u001b[1;33m=\u001b[0m\u001b[0mfilter_truth_table\u001b[0m\u001b[1;33m(\u001b[0m\u001b[0mtabel_kebenaran_current\u001b[0m\u001b[1;33m,\u001b[0m\u001b[0mx\u001b[0m\u001b[1;33m,\u001b[0m\u001b[1;32mTrue\u001b[0m\u001b[1;33m)\u001b[0m\u001b[1;33m\u001b[0m\u001b[1;33m\u001b[0m\u001b[0m\n\u001b[0;32m      8\u001b[0m     \u001b[1;32melif\u001b[0m \u001b[0mmasukan\u001b[0m \u001b[1;33m==\u001b[0m \u001b[1;34m\"f\"\u001b[0m\u001b[1;33m:\u001b[0m\u001b[1;33m\u001b[0m\u001b[1;33m\u001b[0m\u001b[0m\n\u001b[1;32m----> 9\u001b[1;33m         \u001b[0mtable_kebenaran_current\u001b[0m\u001b[1;33m=\u001b[0m\u001b[0mfilter_truth_table\u001b[0m\u001b[1;33m(\u001b[0m\u001b[0mtabel_kebenaran_current\u001b[0m\u001b[1;33m,\u001b[0m\u001b[0mx\u001b[0m\u001b[1;33m,\u001b[0m\u001b[1;32mFalse\u001b[0m\u001b[1;33m)\u001b[0m\u001b[1;33m\u001b[0m\u001b[1;33m\u001b[0m\u001b[0m\n\u001b[0m\u001b[0;32m     10\u001b[0m     \u001b[0mprint\u001b[0m\u001b[1;33m(\u001b[0m\u001b[0mtabel_kebenaran_current\u001b[0m\u001b[1;33m)\u001b[0m\u001b[1;33m\u001b[0m\u001b[1;33m\u001b[0m\u001b[0m\n",
      "\u001b[1;32m<ipython-input-27-cbdb5d574547>\u001b[0m in \u001b[0;36mfilter_truth_table\u001b[1;34m(tabel_kebenaran, prop, nilai)\u001b[0m\n\u001b[0;32m      3\u001b[0m     \u001b[1;32mfor\u001b[0m \u001b[0mi\u001b[0m \u001b[1;32min\u001b[0m \u001b[0mtabel_kebenaran\u001b[0m\u001b[1;33m:\u001b[0m\u001b[1;33m\u001b[0m\u001b[1;33m\u001b[0m\u001b[0m\n\u001b[0;32m      4\u001b[0m         \u001b[1;32mif\u001b[0m \u001b[0mi\u001b[0m\u001b[1;33m[\u001b[0m\u001b[0mprop\u001b[0m\u001b[1;33m]\u001b[0m \u001b[1;33m==\u001b[0m \u001b[0mnilai\u001b[0m\u001b[1;33m:\u001b[0m\u001b[1;33m\u001b[0m\u001b[1;33m\u001b[0m\u001b[0m\n\u001b[1;32m----> 5\u001b[1;33m             \u001b[0mnew_tabel_kebenaran\u001b[0m\u001b[1;33m.\u001b[0m\u001b[0mappend\u001b[0m\u001b[1;33m(\u001b[0m\u001b[0mi\u001b[0m\u001b[1;33m)\u001b[0m\u001b[1;33m\u001b[0m\u001b[1;33m\u001b[0m\u001b[0m\n\u001b[0m\u001b[0;32m      6\u001b[0m     \u001b[1;32mreturn\u001b[0m \u001b[0mnew_tabel_kebenaran\u001b[0m\u001b[1;33m\u001b[0m\u001b[1;33m\u001b[0m\u001b[0m\n",
      "\u001b[1;31mNameError\u001b[0m: name 'new_tabel_kebenaran' is not defined"
     ]
    }
   ],
   "source": [
    "tabel_kebenaran_current = tabel_kebenaran\n",
    "for x in tuple_proposisi:\n",
    "    masukan = input(\"Masukan nilai \"+x+\": \")\n",
    "    if masukan == \"\":\n",
    "        pass\n",
    "    elif masukan == \"t\":\n",
    "        table_kebenaran_current=filter_truth_table(tabel_kebenaran_current,x,True)\n",
    "    elif masukan == \"f\":\n",
    "        table_kebenaran_current=filter_truth_table(tabel_kebenaran_current,x,False)\n",
    "    print(tabel_kebenaran_current)"
   ]
  },
  {
   "cell_type": "code",
   "execution_count": null,
   "metadata": {},
   "outputs": [],
   "source": []
  },
  {
   "cell_type": "code",
   "execution_count": null,
   "metadata": {},
   "outputs": [],
   "source": []
  }
 ],
 "metadata": {
  "kernelspec": {
   "display_name": "Python 3",
   "language": "python",
   "name": "python3"
  },
  "language_info": {
   "codemirror_mode": {
    "name": "ipython",
    "version": 3
   },
   "file_extension": ".py",
   "mimetype": "text/x-python",
   "name": "python",
   "nbconvert_exporter": "python",
   "pygments_lexer": "ipython3",
   "version": "3.7.4"
  }
 },
 "nbformat": 4,
 "nbformat_minor": 2
}
