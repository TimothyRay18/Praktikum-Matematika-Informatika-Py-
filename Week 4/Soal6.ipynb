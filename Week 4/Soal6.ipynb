{
 "cells": [
  {
   "cell_type": "code",
   "execution_count": 1,
   "metadata": {},
   "outputs": [
    {
     "name": "stdout",
     "output_type": "stream",
     "text": [
      "[{'p': True, 'q': True, 'p->q': True}, {'p': True, 'q': False, 'p->q': False}, {'p': False, 'q': True, 'p->q': True}, {'p': False, 'q': False, 'p->q': True}]\n"
     ]
    }
   ],
   "source": [
    "tuple_proposisi = ('p','q','p->q')\n",
    "\n",
    "tabel_kebenaran =[\n",
    "    {'p':True, 'q':True, 'p->q':True},\n",
    "    {'p':True, 'q':False, 'p->q':False},\n",
    "    {'p':False, 'q':True, 'p->q':True},\n",
    "    {'p':False, 'q':False, 'p->q':True}\n",
    "]   \n",
    "\n",
    "print(tabel_kebenaran)"
   ]
  },
  {
   "cell_type": "code",
   "execution_count": 2,
   "metadata": {},
   "outputs": [],
   "source": [
    "def filter_truth_table(tabel_kebenaran,prop,prop_value): \n",
    "    new_tabel_kebenaran = []\n",
    "    for i in tabel_kebenaran:\n",
    "        if i[prop] == prop_value:\n",
    "            new_tabel_kebenaran.append(i)\n",
    "    return new_tabel_kebenaran"
   ]
  },
  {
   "cell_type": "code",
   "execution_count": 3,
   "metadata": {},
   "outputs": [],
   "source": [
    "def ambil_nilai_truth_table(tabel_kebenaran,prop,prop_value): \n",
    "    new_prop_values = []\n",
    "    for i in tabel_kebenaran:\n",
    "        new_prop_values.append(i[prop])\n",
    "    return new_prop_values"
   ]
  },
  {
   "cell_type": "code",
   "execution_count": 4,
   "metadata": {},
   "outputs": [
    {
     "name": "stdout",
     "output_type": "stream",
     "text": [
      "Proposisi : -q\n",
      "[{'p': True, 'q': False, 'p->q': False}, {'p': False, 'q': False, 'p->q': True}]\n",
      "Proposisi : p->q\n",
      "[{'p': False, 'q': False, 'p->q': True}]\n",
      "Proposisi : -p\n",
      "[False]\n"
     ]
    }
   ],
   "source": [
    "tabel_kebenaran_current = tabel_kebenaran\n",
    "for i in tuple_proposisi:\n",
    "    prop_value = input('Proposisi : ' )\n",
    "    if prop_value == '-q':\n",
    "        tabel_kebenaran_current = filter_truth_table(tabel_kebenaran_current,'q',False)\n",
    "    elif prop_value == 'p->q': \n",
    "        tabel_kebenaran_current = filter_truth_table(tabel_kebenaran_current,'p->q',True)\n",
    "    elif prop_value == '-p':\n",
    "        tabel_kebenaran_current = ambil_nilai_truth_table(tabel_kebenaran_current,'p',False)\n",
    "    print (tabel_kebenaran_current)"
   ]
  }
 ],
 "metadata": {
  "kernelspec": {
   "display_name": "Python 3",
   "language": "python",
   "name": "python3"
  },
  "language_info": {
   "codemirror_mode": {
    "name": "ipython",
    "version": 3
   },
   "file_extension": ".py",
   "mimetype": "text/x-python",
   "name": "python",
   "nbconvert_exporter": "python",
   "pygments_lexer": "ipython3",
   "version": "3.7.4"
  }
 },
 "nbformat": 4,
 "nbformat_minor": 2
}
