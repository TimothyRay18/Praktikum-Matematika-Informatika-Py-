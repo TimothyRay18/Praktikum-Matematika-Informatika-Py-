{
 "cells": [
  {
   "cell_type": "code",
   "execution_count": 90,
   "metadata": {},
   "outputs": [],
   "source": [
    "#konstanta global\n",
    "NEGATION = '\\u00ac'\n",
    "UNIVERSAL = '\\u2200'\n",
    "EXIXTENSIAL = '\\u2203'"
   ]
  },
  {
   "cell_type": "code",
   "execution_count": 91,
   "metadata": {},
   "outputs": [],
   "source": [
    "LIST_FAKTA=[\n",
    "    {'nama':'Abi','kelas':'A','suka_mi_instan':True},\n",
    "    {'nama':'Ati','kelas':'A','suka_mi_instan':True},\n",
    "    {'nama':'Ami','kelas':'A','suka_mi_instan':True},\n",
    "    {'nama':'Edi','kelas':'B','suka_mi_instan':False},\n",
    "    {'nama':'Eri','kelas':'B','suka_mi_instan':True},\n",
    "    {'nama':'Egi','kelas':'B','suka_mi_instan':True},\n",
    "    {'nama':'Ica','kelas':'C','suka_mi_instan':False},\n",
    "    {'nama':'Ifa','kelas':'C','suka_mi_instan':False},\n",
    "    {'nama':'Iwa','kelas':'C','suka_mi_instan':False},\n",
    "]"
   ]
  },
  {
   "cell_type": "code",
   "execution_count": 92,
   "metadata": {},
   "outputs": [],
   "source": [
    "LIST_MAHASISWA_A = [fakta['nama'] for fakta in LIST_FAKTA if fakta['kelas'] == 'A']\n",
    "LIST_MAHASISWA_B = [fakta['nama'] for fakta in LIST_FAKTA if fakta['kelas'] == 'B']\n",
    "LIST_MAHASISWA_C = [fakta['nama'] for fakta in LIST_FAKTA if fakta['kelas'] == 'C']"
   ]
  },
  {
   "cell_type": "code",
   "execution_count": 93,
   "metadata": {},
   "outputs": [
    {
     "name": "stdout",
     "output_type": "stream",
     "text": [
      "['Abi', 'Ati', 'Ami']\n",
      "['Edi', 'Eri', 'Egi']\n",
      "['Ica', 'Ifa', 'Iwa']\n"
     ]
    }
   ],
   "source": [
    "print(LIST_MAHASISWA_A)\n",
    "print(LIST_MAHASISWA_B)\n",
    "print(LIST_MAHASISWA_C)"
   ]
  },
  {
   "cell_type": "code",
   "execution_count": 94,
   "metadata": {},
   "outputs": [],
   "source": [
    "def isSuka(nama):\n",
    "    for x in LIST_FAKTA:\n",
    "        if(x['nama']==nama):\n",
    "            return x['suka_mi_instan']\n",
    "            break"
   ]
  },
  {
   "cell_type": "code",
   "execution_count": 95,
   "metadata": {},
   "outputs": [
    {
     "name": "stdout",
     "output_type": "stream",
     "text": [
      "Ica suka mi instan?\n",
      "False\n",
      "Eri suka mi instan?\n",
      "True\n"
     ]
    }
   ],
   "source": [
    "print('Ica suka mi instan?')\n",
    "isLike=isSuka('Ica')\n",
    "print(isLike)\n",
    "print('Eri suka mi instan?')\n",
    "isLike=isSuka('Eri')\n",
    "print(isLike)"
   ]
  },
  {
   "cell_type": "code",
   "execution_count": 96,
   "metadata": {},
   "outputs": [],
   "source": [
    "def cetak_fakta_kelas(kelas):\n",
    "    for x in LIST_FAKTA:\n",
    "        if(x['kelas']==kelas):\n",
    "            print('{:10}{:10}'.format(x['nama'],x['suka_mi_instan']))\n",
    "    is_semua_mahasiswa_suka_mi_instan=True\n",
    "    is_ada_mahasiswa_suka_mi_instan=False\n",
    "    for x in LIST_FAKTA:\n",
    "        if(x['kelas']==kelas):\n",
    "            is_semua_mahasiswa_suka_mi_instan = x['suka_mi_instan'] and is_semua_mahasiswa_suka_mi_instan\n",
    "    print('{:10}{:>10}'.format('semua?',is_semua_mahasiswa_suka_mi_instan),end='')\n",
    "    print('(semua mahasiswa kelas ini suka mi instan?)')\n",
    "    for x in LIST_FAKTA:\n",
    "        if(x['kelas']==kelas):\n",
    "            is_ada_mahasiswa_suka_mi_instan = x['suka_mi_instan'] or is_ada_mahasiswa_suka_mi_instan\n",
    "    print('{:10}{:>10}'.format('ada?',is_ada_mahasiswa_suka_mi_instan),end='')\n",
    "    print('(ada mahasiswa kelas ini yang suka mi instan?)')"
   ]
  },
  {
   "cell_type": "code",
   "execution_count": 97,
   "metadata": {},
   "outputs": [
    {
     "name": "stdout",
     "output_type": "stream",
     "text": [
      "Fakta Mahasiswa kelas A\n",
      "Mahasiswa Suka Mi Instan\n",
      "Abi                1\n",
      "Ati                1\n",
      "Ami                1\n",
      "semua?             1(semua mahasiswa kelas ini suka mi instan?)\n",
      "ada?               1(ada mahasiswa kelas ini yang suka mi instan?)\n"
     ]
    }
   ],
   "source": [
    "print('Fakta Mahasiswa kelas A')\n",
    "print('Mahasiswa Suka Mi Instan')\n",
    "cetak_fakta_kelas('A')"
   ]
  },
  {
   "cell_type": "code",
   "execution_count": 98,
   "metadata": {},
   "outputs": [
    {
     "name": "stdout",
     "output_type": "stream",
     "text": [
      "Fakta Mahasiswa kelas B\n",
      "Mahasiswa Suka Mi Instan\n",
      "Edi                0\n",
      "Eri                1\n",
      "Egi                1\n",
      "semua?             0(semua mahasiswa kelas ini suka mi instan?)\n",
      "ada?               1(ada mahasiswa kelas ini yang suka mi instan?)\n"
     ]
    }
   ],
   "source": [
    "print('Fakta Mahasiswa kelas B')\n",
    "print('Mahasiswa Suka Mi Instan')\n",
    "cetak_fakta_kelas('B')"
   ]
  },
  {
   "cell_type": "code",
   "execution_count": 99,
   "metadata": {},
   "outputs": [
    {
     "name": "stdout",
     "output_type": "stream",
     "text": [
      "Fakta Mahasiswa kelas C\n",
      "Mahasiswa Suka Mi Instan\n",
      "Ica                0\n",
      "Ifa                0\n",
      "Iwa                0\n",
      "semua?             0(semua mahasiswa kelas ini suka mi instan?)\n",
      "ada?               0(ada mahasiswa kelas ini yang suka mi instan?)\n"
     ]
    }
   ],
   "source": [
    "print('Fakta Mahasiswa kelas C')\n",
    "print('Mahasiswa Suka Mi Instan')\n",
    "cetak_fakta_kelas('C')"
   ]
  },
  {
   "cell_type": "code",
   "execution_count": null,
   "metadata": {},
   "outputs": [],
   "source": []
  }
 ],
 "metadata": {
  "kernelspec": {
   "display_name": "Python 3",
   "language": "python",
   "name": "python3"
  },
  "language_info": {
   "codemirror_mode": {
    "name": "ipython",
    "version": 3
   },
   "file_extension": ".py",
   "mimetype": "text/x-python",
   "name": "python",
   "nbconvert_exporter": "python",
   "pygments_lexer": "ipython3",
   "version": "3.7.4"
  }
 },
 "nbformat": 4,
 "nbformat_minor": 2
}
