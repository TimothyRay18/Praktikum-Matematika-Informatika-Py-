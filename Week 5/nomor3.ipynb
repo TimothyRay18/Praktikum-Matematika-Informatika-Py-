{
 "cells": [
  {
   "cell_type": "code",
   "execution_count": 6,
   "metadata": {},
   "outputs": [
    {
     "name": "stdout",
     "output_type": "stream",
     "text": [
      "List:[5, 3, 6, 4, 1, 2, 7]\n",
      "Masukkan angka dicari: 5\n",
      "Elemen ditemukan\n",
      "Di indeks ke-0\n",
      "Atau posisi ke-1\n"
     ]
    }
   ],
   "source": [
    "list1 = [5,3,6,4,1,2,7]\n",
    "print(\"List:\",end='')\n",
    "print(list1)\n",
    "index_max = len(list1)\n",
    "found = False\n",
    "index_current = 0\n",
    "elemen_dicari=int(input(\"Masukkan angka dicari: \"))\n",
    "while(not found and index_current<index_max):\n",
    "    if elemen_dicari == list1[index_current]:\n",
    "        found=True\n",
    "    else:\n",
    "        index_current+=1\n",
    "if found:\n",
    "    print(\"Elemen ditemukan\")\n",
    "    print(\"Di indeks ke-\",end='')\n",
    "    print(index_current)\n",
    "    print(\"Atau posisi ke-\",end='')\n",
    "    print(index_current+1)\n",
    "else:\n",
    "    print(\"Elemen tidak ditemukan\")"
   ]
  },
  {
   "cell_type": "code",
   "execution_count": 7,
   "metadata": {},
   "outputs": [
    {
     "name": "stdout",
     "output_type": "stream",
     "text": [
      "List:[5, 3, 6, 4, 1, 2, 7]\n",
      "Masukkan angka dicari: 5\n",
      "Elemen ditemukan\n",
      "Di indeks ke-0\n",
      "Atau posisi ke-1\n"
     ]
    }
   ],
   "source": [
    "list1 = [5,3,6,4,1,2,7]\n",
    "print(\"List:\",end='')\n",
    "print(list1)\n",
    "index_max = len(list1)\n",
    "found = False\n",
    "index_current = 0\n",
    "elemen_dicari=int(input(\"Masukkan angka dicari: \"))\n",
    "while not (found or not index_current<index_max):\n",
    "    if elemen_dicari == list1[index_current]:\n",
    "        found=True\n",
    "    else:\n",
    "        index_current+=1\n",
    "if found:\n",
    "    print(\"Elemen ditemukan\")\n",
    "    print(\"Di indeks ke-\",end='')\n",
    "    print(index_current)\n",
    "    print(\"Atau posisi ke-\",end='')\n",
    "    print(index_current+1)\n",
    "else:\n",
    "    print(\"Elemen tidak ditemukan\")"
   ]
  },
  {
   "cell_type": "code",
   "execution_count": null,
   "metadata": {},
   "outputs": [],
   "source": []
  }
 ],
 "metadata": {
  "kernelspec": {
   "display_name": "Python 3",
   "language": "python",
   "name": "python3"
  },
  "language_info": {
   "codemirror_mode": {
    "name": "ipython",
    "version": 3
   },
   "file_extension": ".py",
   "mimetype": "text/x-python",
   "name": "python",
   "nbconvert_exporter": "python",
   "pygments_lexer": "ipython3",
   "version": "3.7.4"
  }
 },
 "nbformat": 4,
 "nbformat_minor": 2
}
