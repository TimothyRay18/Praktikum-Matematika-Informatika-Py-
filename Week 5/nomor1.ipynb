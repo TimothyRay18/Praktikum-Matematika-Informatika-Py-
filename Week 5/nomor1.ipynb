{
 "cells": [
  {
   "cell_type": "code",
   "execution_count": 50,
   "metadata": {},
   "outputs": [],
   "source": [
    "list_siswa = [\n",
    "    {'nim':'13519001','kumpul_tugas':True,'tidak_hadir':4},\n",
    "    {'nim':'13519002','kumpul_tugas':True,'tidak_hadir':2},\n",
    "    {'nim':'13519003','kumpul_tugas':False,'tidak_hadir':3},\n",
    "    {'nim':'13519004','kumpul_tugas':False,'tidak_hadir':0},\n",
    "    {'nim':'13519005','kumpul_tugas':True,'tidak_hadir':0},\n",
    "    {'nim':'13519006','kumpul_tugas':True,'tidak_hadir':0},\n",
    "    {'nim':'13519007','kumpul_tugas':True,'tidak_hadir':1},\n",
    "]"
   ]
  },
  {
   "cell_type": "code",
   "execution_count": 51,
   "metadata": {},
   "outputs": [
    {
     "name": "stdout",
     "output_type": "stream",
     "text": [
      "Boleh ujian\n",
      "NIM            Kumpul Tugas Besar  Ketidakhadiran\n",
      "13519002       True                             2\n",
      "13519005       True                             0\n",
      "13519006       True                             0\n",
      "13519007       True                             1\n"
     ]
    }
   ],
   "source": [
    "print(\"Boleh ujian\")\n",
    "print('{:15}{:20}{:14}'.format(\"NIM\",\"Kumpul Tugas Besar\",\"Ketidakhadiran\"))\n",
    "for x in list_siswa:\n",
    "    if x['kumpul_tugas']==True and x['tidak_hadir']<3:\n",
    "        print('{:15}{:20}{:>14}'.format(x['nim'],str(x['kumpul_tugas']),x['tidak_hadir']))"
   ]
  },
  {
   "cell_type": "code",
   "execution_count": 52,
   "metadata": {},
   "outputs": [
    {
     "name": "stdout",
     "output_type": "stream",
     "text": [
      "Tidak boleh ujian(1)\n",
      "NIM            Kumpul Tugas Besar  Ketidakhadiran\n",
      "13519001       True                             4\n",
      "13519003       False                            3\n",
      "13519004       False                            0\n"
     ]
    }
   ],
   "source": [
    "print(\"Tidak boleh ujian(1)\")\n",
    "print('{:15}{:20}{:14}'.format(\"NIM\",\"Kumpul Tugas Besar\",\"Ketidakhadiran\"))\n",
    "for x in list_siswa:\n",
    "    if not(x['kumpul_tugas']==True and x['tidak_hadir']<3):\n",
    "        print('{:15}{:20}{:>14}'.format(x['nim'],str(x['kumpul_tugas']),x['tidak_hadir']))"
   ]
  },
  {
   "cell_type": "code",
   "execution_count": 53,
   "metadata": {},
   "outputs": [
    {
     "name": "stdout",
     "output_type": "stream",
     "text": [
      "Tidak boleh ujian(2)\n",
      "NIM            Kumpul Tugas Besar  Ketidakhadiran\n",
      "13519001       True                             4\n",
      "13519003       False                            3\n",
      "13519004       False                            0\n"
     ]
    }
   ],
   "source": [
    "print(\"Tidak boleh ujian(2)\")\n",
    "print('{:15}{:20}{:14}'.format(\"NIM\",\"Kumpul Tugas Besar\",\"Ketidakhadiran\"))\n",
    "for x in list_siswa:\n",
    "    if not(x['kumpul_tugas']==True) or not(x['tidak_hadir']<3):\n",
    "        print('{:15}{:20}{:>14}'.format(x['nim'],str(x['kumpul_tugas']),x['tidak_hadir']))"
   ]
  },
  {
   "cell_type": "code",
   "execution_count": 54,
   "metadata": {},
   "outputs": [
    {
     "name": "stdout",
     "output_type": "stream",
     "text": [
      "Tidak boleh ujian(3)\n",
      "NIM            Kumpul Tugas Besar  Ketidakhadiran\n",
      "13519001       True                             4\n",
      "13519003       False                            3\n",
      "13519004       False                            0\n"
     ]
    }
   ],
   "source": [
    "print(\"Tidak boleh ujian(3)\")\n",
    "print('{:15}{:20}{:14}'.format(\"NIM\",\"Kumpul Tugas Besar\",\"Ketidakhadiran\"))\n",
    "for x in list_siswa:\n",
    "    if not(x['kumpul_tugas']==True) or x['tidak_hadir']>2:\n",
    "        print('{:15}{:20}{:>14}'.format(x['nim'],str(x['kumpul_tugas']),x['tidak_hadir']))"
   ]
  },
  {
   "cell_type": "code",
   "execution_count": 55,
   "metadata": {},
   "outputs": [
    {
     "name": "stdout",
     "output_type": "stream",
     "text": [
      "Semua siswa\n",
      "NIM            Kumpul Tugas Besar  Ketidakhadiran\n",
      "13519001       True                             4*\n",
      "13519002       True                             2\n",
      "13519003       False                            3*\n",
      "13519004       False                            0*\n",
      "13519005       True                             0\n",
      "13519006       True                             0\n",
      "13519007       True                             1\n",
      "* tidak bisa ikut ujian\n"
     ]
    }
   ],
   "source": [
    "print(\"Semua siswa\")\n",
    "print('{:15}{:20}{:14}'.format(\"NIM\",\"Kumpul Tugas Besar\",\"Ketidakhadiran\"))\n",
    "keterangan=\"*\"\n",
    "for x in list_siswa:\n",
    "    if not(x['kumpul_tugas']==True) or x['tidak_hadir']>3:\n",
    "        print('{:15}{:20}{:>14}'.format(x['nim'],str(x['kumpul_tugas']),x['tidak_hadir']),end='')\n",
    "        print(keterangan)\n",
    "    else:\n",
    "        print('{:15}{:20}{:>14}'.format(x['nim'],str(x['kumpul_tugas']),x['tidak_hadir']))\n",
    "        \n",
    "print(\"* tidak bisa ikut ujian\")"
   ]
  },
  {
   "cell_type": "code",
   "execution_count": null,
   "metadata": {},
   "outputs": [],
   "source": []
  }
 ],
 "metadata": {
  "kernelspec": {
   "display_name": "Python 3",
   "language": "python",
   "name": "python3"
  },
  "language_info": {
   "codemirror_mode": {
    "name": "ipython",
    "version": 3
   },
   "file_extension": ".py",
   "mimetype": "text/x-python",
   "name": "python",
   "nbconvert_exporter": "python",
   "pygments_lexer": "ipython3",
   "version": "3.7.4"
  }
 },
 "nbformat": 4,
 "nbformat_minor": 2
}
