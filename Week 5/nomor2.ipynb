{
 "cells": [
  {
   "cell_type": "code",
   "execution_count": 3,
   "metadata": {},
   "outputs": [],
   "source": [
    "pertanyaan = \"Nama belakang Bokir?\"\n",
    "jawaban_benar = \"Bieber\""
   ]
  },
  {
   "cell_type": "code",
   "execution_count": 9,
   "metadata": {},
   "outputs": [
    {
     "name": "stdout",
     "output_type": "stream",
     "text": [
      "Nama belakang Bokir?\n",
      "jawab: adf\n",
      "jawab: dasf\n",
      "jawab: dfs\n",
      "jawab: Bieber\n",
      "Selesai\n"
     ]
    }
   ],
   "source": [
    "print(pertanyaan)\n",
    "berhasil = False\n",
    "mau_lanjut = True\n",
    "while not berhasil and mau_lanjut:\n",
    "    jawaban = input(\"jawab: \")\n",
    "    if jawaban==jawaban_benar:\n",
    "        berhasil=True\n",
    "    elif jawaban == '':\n",
    "        mau_lanjut=False\n",
    "print(\"Selesai\")"
   ]
  },
  {
   "cell_type": "code",
   "execution_count": 10,
   "metadata": {},
   "outputs": [
    {
     "name": "stdout",
     "output_type": "stream",
     "text": [
      "Nama belakang Bokir?\n",
      "jawab: jdas \n",
      "jawab: sdf\n",
      "jawab: sd\n",
      "jawab: \n",
      "Selesai\n"
     ]
    }
   ],
   "source": [
    "print(pertanyaan)\n",
    "berhasil = False\n",
    "mau_lanjut = True\n",
    "while not (berhasil or not mau_lanjut):\n",
    "    jawaban = input(\"jawab: \")\n",
    "    if jawaban==jawaban_benar:\n",
    "        berhasil=True\n",
    "    elif jawaban == '':\n",
    "        mau_lanjut=False\n",
    "print(\"Selesai\")"
   ]
  },
  {
   "cell_type": "code",
   "execution_count": null,
   "metadata": {},
   "outputs": [],
   "source": []
  }
 ],
 "metadata": {
  "kernelspec": {
   "display_name": "Python 3",
   "language": "python",
   "name": "python3"
  },
  "language_info": {
   "codemirror_mode": {
    "name": "ipython",
    "version": 3
   },
   "file_extension": ".py",
   "mimetype": "text/x-python",
   "name": "python",
   "nbconvert_exporter": "python",
   "pygments_lexer": "ipython3",
   "version": "3.7.4"
  }
 },
 "nbformat": 4,
 "nbformat_minor": 2
}
