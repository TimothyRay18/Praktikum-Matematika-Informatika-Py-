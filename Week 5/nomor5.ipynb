{
 "cells": [
  {
   "cell_type": "code",
   "execution_count": 16,
   "metadata": {},
   "outputs": [],
   "source": [
    "#konstanta global\n",
    "NEGATION = '\\u00ac'\n",
    "UNIVERSAL = '\\u2200'\n",
    "EXISTENSIAL = '\\u2203'"
   ]
  },
  {
   "cell_type": "code",
   "execution_count": 17,
   "metadata": {},
   "outputs": [],
   "source": [
    "LIST_FAKTA=[\n",
    "    {'nama':'Abi','kelas':'A','suka_mi_instan':True},\n",
    "    {'nama':'Ati','kelas':'A','suka_mi_instan':True},\n",
    "    {'nama':'Ami','kelas':'A','suka_mi_instan':True},\n",
    "    {'nama':'Edi','kelas':'B','suka_mi_instan':False},\n",
    "    {'nama':'Eri','kelas':'B','suka_mi_instan':True},\n",
    "    {'nama':'Egi','kelas':'B','suka_mi_instan':True},\n",
    "    {'nama':'Ica','kelas':'C','suka_mi_instan':False},\n",
    "    {'nama':'Ifa','kelas':'C','suka_mi_instan':False},\n",
    "    {'nama':'Iwa','kelas':'C','suka_mi_instan':False},\n",
    "]"
   ]
  },
  {
   "cell_type": "code",
   "execution_count": 18,
   "metadata": {},
   "outputs": [],
   "source": [
    "LIST_MAHASISWA_A = [fakta['nama'] for fakta in LIST_FAKTA if fakta['kelas'] == 'A']\n",
    "LIST_MAHASISWA_B = [fakta['nama'] for fakta in LIST_FAKTA if fakta['kelas'] == 'B']\n",
    "LIST_MAHASISWA_C = [fakta['nama'] for fakta in LIST_FAKTA if fakta['kelas'] == 'C']"
   ]
  },
  {
   "cell_type": "code",
   "execution_count": 19,
   "metadata": {},
   "outputs": [
    {
     "name": "stdout",
     "output_type": "stream",
     "text": [
      "['Abi', 'Ati', 'Ami']\n",
      "['Edi', 'Eri', 'Egi']\n",
      "['Ica', 'Ifa', 'Iwa']\n"
     ]
    }
   ],
   "source": [
    "print(LIST_MAHASISWA_A)\n",
    "print(LIST_MAHASISWA_B)\n",
    "print(LIST_MAHASISWA_C)"
   ]
  },
  {
   "cell_type": "code",
   "execution_count": 20,
   "metadata": {},
   "outputs": [],
   "source": [
    "def isSuka(nama):\n",
    "    for x in LIST_FAKTA:\n",
    "        if(x['nama']==nama):\n",
    "            return x['suka_mi_instan']\n",
    "            break"
   ]
  },
  {
   "cell_type": "code",
   "execution_count": 30,
   "metadata": {},
   "outputs": [],
   "source": [
    "def cetak_fakta_kelas(kelas):\n",
    "    for x in LIST_FAKTA:\n",
    "        if(x['kelas']==kelas):\n",
    "            print('{:10}{:10}'.format(x['nama'],x['suka_mi_instan']))\n",
    "    is_semua_mahasiswa_suka_mi_instan=True\n",
    "    is_ada_mahasiswa_suka_mi_instan=False\n",
    "    for x in LIST_FAKTA:\n",
    "        if(x['kelas']==kelas):\n",
    "            is_semua_mahasiswa_suka_mi_instan = x['suka_mi_instan'] and is_semua_mahasiswa_suka_mi_instan\n",
    "    print('{:10}{:>10}'.format('semua?',is_semua_mahasiswa_suka_mi_instan),end='')\n",
    "    print('(semua mahasiswa kelas ini suka mi instan?)')\n",
    "    for x in LIST_FAKTA:\n",
    "        if(x['kelas']==kelas):\n",
    "            is_ada_mahasiswa_suka_mi_instan = x['suka_mi_instan'] or is_ada_mahasiswa_suka_mi_instan\n",
    "    print('{:10}{:>10}'.format('ada?',is_ada_mahasiswa_suka_mi_instan),end='')\n",
    "    print('(ada mahasiswa kelas ini yang suka mi instan?)')\n",
    "    if(is_semua_mahasiswa_suka_mi_instan==True):\n",
    "        print(UNIVERSAL,end='')\n",
    "        print('x suka_mi_instan(x)')\n",
    "        print('* dan mengimplikasikan juga: ',end='')\n",
    "        print(EXISTENSIAL,end='')\n",
    "        print('x suka_mi_instan(x)')\n",
    "    elif(is_ada_mahasiswa_suka_mi_instan==True):\n",
    "        print(EXISTENSIAL,end='')\n",
    "        print('x suka_mi_instan(x)')"
   ]
  },
  {
   "cell_type": "code",
   "execution_count": 31,
   "metadata": {},
   "outputs": [
    {
     "name": "stdout",
     "output_type": "stream",
     "text": [
      "Fakta Mahasiswa kelas A\n",
      "Mahasiswa Suka Mi Instan\n",
      "Abi                1\n",
      "Ati                1\n",
      "Ami                1\n",
      "semua?             1(semua mahasiswa kelas ini suka mi instan?)\n",
      "ada?               1(ada mahasiswa kelas ini yang suka mi instan?)\n",
      "∀x suka_mi_instan(x)\n",
      "* dan mengimplikasikan juga: ∃x suka_mi_instan(x)\n"
     ]
    }
   ],
   "source": [
    "print('Fakta Mahasiswa kelas A')\n",
    "print('Mahasiswa Suka Mi Instan')\n",
    "cetak_fakta_kelas('A')"
   ]
  },
  {
   "cell_type": "code",
   "execution_count": 32,
   "metadata": {},
   "outputs": [
    {
     "name": "stdout",
     "output_type": "stream",
     "text": [
      "Fakta Mahasiswa kelas B\n",
      "Mahasiswa Suka Mi Instan\n",
      "Edi                0\n",
      "Eri                1\n",
      "Egi                1\n",
      "semua?             0(semua mahasiswa kelas ini suka mi instan?)\n",
      "ada?               1(ada mahasiswa kelas ini yang suka mi instan?)\n",
      "∃x suka_mi_instan(x)\n"
     ]
    }
   ],
   "source": [
    "print('Fakta Mahasiswa kelas B')\n",
    "print('Mahasiswa Suka Mi Instan')\n",
    "cetak_fakta_kelas('B')"
   ]
  },
  {
   "cell_type": "code",
   "execution_count": 33,
   "metadata": {},
   "outputs": [
    {
     "name": "stdout",
     "output_type": "stream",
     "text": [
      "Fakta Mahasiswa kelas C\n",
      "Mahasiswa Suka Mi Instan\n",
      "Ica                0\n",
      "Ifa                0\n",
      "Iwa                0\n",
      "semua?             0(semua mahasiswa kelas ini suka mi instan?)\n",
      "ada?               0(ada mahasiswa kelas ini yang suka mi instan?)\n"
     ]
    }
   ],
   "source": [
    "print('Fakta Mahasiswa kelas C')\n",
    "print('Mahasiswa Suka Mi Instan')\n",
    "cetak_fakta_kelas('C')"
   ]
  },
  {
   "cell_type": "code",
   "execution_count": null,
   "metadata": {},
   "outputs": [],
   "source": []
  }
 ],
 "metadata": {
  "kernelspec": {
   "display_name": "Python 3",
   "language": "python",
   "name": "python3"
  },
  "language_info": {
   "codemirror_mode": {
    "name": "ipython",
    "version": 3
   },
   "file_extension": ".py",
   "mimetype": "text/x-python",
   "name": "python",
   "nbconvert_exporter": "python",
   "pygments_lexer": "ipython3",
   "version": "3.7.4"
  }
 },
 "nbformat": 4,
 "nbformat_minor": 2
}
