{
 "cells": [
  {
   "cell_type": "code",
   "execution_count": 6,
   "metadata": {},
   "outputs": [],
   "source": [
    "def cetak_baris(p,q):\n",
    "    print('{:8}{:8}{:8}{:8}{:8}'.format(str(p),str(q),str(p and q),str(not q),str((p and q) or not q)))"
   ]
  },
  {
   "cell_type": "code",
   "execution_count": 7,
   "metadata": {},
   "outputs": [
    {
     "name": "stdout",
     "output_type": "stream",
     "text": [
      "p       q       p&q     ~q      p&q|~q  \n",
      "True    True    True    False   True    \n",
      "True    False   False   True    True    \n",
      "False   True    False   False   False   \n",
      "False   False   False   True    True    \n"
     ]
    }
   ],
   "source": [
    "print('{:8}{:8}{:8}{:8}{:8}'.format('p','q','p&q','~q','p&q|~q'))\n",
    "cetak_baris(True,True)\n",
    "cetak_baris(True,False)\n",
    "cetak_baris(False,True)\n",
    "cetak_baris(False,False)"
   ]
  },
  {
   "cell_type": "code",
   "execution_count": null,
   "metadata": {},
   "outputs": [],
   "source": []
  }
 ],
 "metadata": {
  "kernelspec": {
   "display_name": "Python 3",
   "language": "python",
   "name": "python3"
  },
  "language_info": {
   "codemirror_mode": {
    "name": "ipython",
    "version": 3
   },
   "file_extension": ".py",
   "mimetype": "text/x-python",
   "name": "python",
   "nbconvert_exporter": "python",
   "pygments_lexer": "ipython3",
   "version": "3.7.4"
  }
 },
 "nbformat": 4,
 "nbformat_minor": 2
}
