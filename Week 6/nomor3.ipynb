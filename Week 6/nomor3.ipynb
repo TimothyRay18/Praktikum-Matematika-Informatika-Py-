{
 "cells": [
  {
   "cell_type": "code",
   "execution_count": 3,
   "metadata": {},
   "outputs": [],
   "source": [
    "list_pq_values = [\n",
    "(True, True),\n",
    "(True, False),\n",
    "(False, True),\n",
    "(False, False)\n",
    "]"
   ]
  },
  {
   "cell_type": "code",
   "execution_count": 8,
   "metadata": {},
   "outputs": [
    {
     "name": "stdout",
     "output_type": "stream",
     "text": [
      "Operator (or, and, xor): xor\n",
      "p       q       p xor q \n",
      "True    True    False   \n",
      "True    False   True    \n",
      "False   True    True    \n",
      "False   False   False   \n"
     ]
    }
   ],
   "source": [
    "operator=input('Operator (or, and, xor): ')\n",
    "print('{:8}{:8}{:8}'.format('p','q','p '+operator+' q'))\n",
    "if(operator=='or'):\n",
    "    for x in list_pq_values:\n",
    "        print('{:8}{:8}{:8}'.format(str(x[0]),str(x[1]),str(x[0] or x[1])))\n",
    "elif(operator=='and'):\n",
    "    for x in list_pq_values:\n",
    "        print('{:8}{:8}{:8}'.format(str(x[0]),str(x[1]),str(x[0] and x[1])))\n",
    "else:\n",
    "    for x in list_pq_values:\n",
    "        print('{:8}{:8}{:8}'.format(str(x[0]),str(x[1]),str(x[0]^x[1])))"
   ]
  },
  {
   "cell_type": "code",
   "execution_count": null,
   "metadata": {},
   "outputs": [],
   "source": []
  }
 ],
 "metadata": {
  "kernelspec": {
   "display_name": "Python 3",
   "language": "python",
   "name": "python3"
  },
  "language_info": {
   "codemirror_mode": {
    "name": "ipython",
    "version": 3
   },
   "file_extension": ".py",
   "mimetype": "text/x-python",
   "name": "python",
   "nbconvert_exporter": "python",
   "pygments_lexer": "ipython3",
   "version": "3.7.4"
  }
 },
 "nbformat": 4,
 "nbformat_minor": 2
}
