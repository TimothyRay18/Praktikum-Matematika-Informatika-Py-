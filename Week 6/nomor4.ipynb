{
 "cells": [
  {
   "cell_type": "code",
   "execution_count": 7,
   "metadata": {},
   "outputs": [],
   "source": [
    "import random\n",
    "list_val = [True, False]\n",
    "list_operator = ['and', 'or', 'xor']"
   ]
  },
  {
   "cell_type": "code",
   "execution_count": 9,
   "metadata": {},
   "outputs": [
    {
     "name": "stdout",
     "output_type": "stream",
     "text": [
      "p: False\n",
      "q: True\n",
      "p xor q: ?True\n",
      "benar\n",
      "\n",
      "p: False\n",
      "q: False\n",
      "p and q: ?True\n",
      "salah\n",
      "\n",
      "p: True\n",
      "q: True\n",
      "p xor q: ?Fals\n",
      "salah\n",
      "\n",
      "p: True\n",
      "q: True\n",
      "p xor q: ?Fakse\n",
      "salah\n",
      "\n",
      "p: False\n",
      "q: False\n",
      "p xor q: ?False\n",
      "benar\n",
      "\n",
      "p: False\n",
      "q: True\n",
      "p or q: ?\n",
      "selesai\n"
     ]
    }
   ],
   "source": [
    "while(True):\n",
    "    p=random.choice(list_val)\n",
    "    q=random.choice(list_val)\n",
    "    operator=random.choice(list_operator)\n",
    "    if(operator=='and'):\n",
    "        soal=str(p and q)\n",
    "    elif(operator=='or'):\n",
    "        soal=str(p or q)\n",
    "    else:\n",
    "        soal=str(p^q)\n",
    "    print('p: '+str(p))\n",
    "    print('q: '+str(q))\n",
    "    jawab=input('p '+operator+' q: ?')\n",
    "    if(jawab==\"\"):\n",
    "        print('selesai')\n",
    "        break\n",
    "    elif(jawab==soal):\n",
    "        print('benar')\n",
    "    else:\n",
    "        print('salah')\n",
    "    print()"
   ]
  },
  {
   "cell_type": "code",
   "execution_count": null,
   "metadata": {},
   "outputs": [],
   "source": []
  }
 ],
 "metadata": {
  "kernelspec": {
   "display_name": "Python 3",
   "language": "python",
   "name": "python3"
  }
 },
 "nbformat": 4,
 "nbformat_minor": 2
}
