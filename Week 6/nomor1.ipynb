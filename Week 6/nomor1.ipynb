{
 "cells": [
  {
   "cell_type": "code",
   "execution_count": 9,
   "metadata": {},
   "outputs": [
    {
     "name": "stdout",
     "output_type": "stream",
     "text": [
      "Masukan nilai('t' untuk true, 'f' untuk false): bae\n",
      "Masukan tidak valid\n"
     ]
    }
   ],
   "source": [
    "masukan_bool=input(\"Masukan nilai('t' untuk true, 'f' untuk false): \")\n",
    "if(masukan_bool=='t' or masukan_bool=='T'):\n",
    "    print('Negasi dari True adalah '+str(not True))\n",
    "elif(masukan_bool=='f' or masukan_bool=='F'):\n",
    "    print('Negasi dari False adalah '+str(not False))\n",
    "else:\n",
    "    print('Masukan tidak valid')"
   ]
  },
  {
   "cell_type": "code",
   "execution_count": null,
   "metadata": {},
   "outputs": [],
   "source": []
  }
 ],
 "metadata": {
  "kernelspec": {
   "display_name": "Python 3",
   "language": "python",
   "name": "python3"
  },
  "language_info": {
   "codemirror_mode": {
    "name": "ipython",
    "version": 3
   },
   "file_extension": ".py",
   "mimetype": "text/x-python",
   "name": "python",
   "nbconvert_exporter": "python",
   "pygments_lexer": "ipython3",
   "version": "3.7.4"
  }
 },
 "nbformat": 4,
 "nbformat_minor": 2
}
