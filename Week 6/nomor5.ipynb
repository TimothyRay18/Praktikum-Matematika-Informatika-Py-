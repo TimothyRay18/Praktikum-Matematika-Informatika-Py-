{
 "cells": [
  {
   "cell_type": "code",
   "execution_count": 29,
   "metadata": {},
   "outputs": [],
   "source": [
    "list_pq_values = [\n",
    "{'p':True, 'q':True},\n",
    "{'p':True, 'q':False},\n",
    "{'p':False, 'q':True},\n",
    "{'p':False, 'q':False}\n",
    "]"
   ]
  },
  {
   "cell_type": "code",
   "execution_count": 30,
   "metadata": {},
   "outputs": [],
   "source": [
    "def get_result(list_pq_values, boolean_expression):\n",
    "    list_result = []\n",
    "    for x in list_pq_values:\n",
    "        list_result.append(eval(boolean_expression,x))\n",
    "    return list_result"
   ]
  },
  {
   "cell_type": "code",
   "execution_count": 31,
   "metadata": {},
   "outputs": [
    {
     "name": "stdout",
     "output_type": "stream",
     "text": [
      "1. not(p and q): \n",
      "[False, True, True, True]\n",
      "ekivalen dengan\n",
      "2.not p or not q: \n",
      "[False, True, True, True]\n",
      "3.not(p or q): \n",
      "[False, False, False, True]\n",
      "ekivalen dengan\n",
      "4.not p and not q: \n",
      "[False, False, False, True]\n"
     ]
    }
   ],
   "source": [
    "print('1. not(p and q): ')\n",
    "print(get_result(list_pq_values,'not(p and q)'))\n",
    "print()\n",
    "print('ekivalen dengan')\n",
    "print()\n",
    "print('2.not p or not q: ')\n",
    "print(get_result(list_pq_values,'not p or not q'))\n",
    "print()\n",
    "print('3.not(p or q): ')\n",
    "print(get_result(list_pq_values,'not(p or q)'))\n",
    "print()\n",
    "print('ekivalen dengan')\n",
    "print()\n",
    "print('4.not p and not q: ')\n",
    "print(get_result(list_pq_values,'not p and not q'))"
   ]
  },
  {
   "cell_type": "code",
   "execution_count": null,
   "metadata": {},
   "outputs": [],
   "source": []
  }
 ],
 "metadata": {
  "kernelspec": {
   "display_name": "Python 3",
   "language": "python",
   "name": "python3"
  },
  "language_info": {
   "codemirror_mode": {
    "name": "ipython",
    "version": 3
   },
   "file_extension": ".py",
   "mimetype": "text/x-python",
   "name": "python",
   "nbconvert_exporter": "python",
   "pygments_lexer": "ipython3",
   "version": "3.7.4"
  }
 },
 "nbformat": 4,
 "nbformat_minor": 2
}
